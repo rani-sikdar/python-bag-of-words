{
 "cells": [
  {
   "cell_type": "code",
   "execution_count": 3,
   "metadata": {},
   "outputs": [],
   "source": [
    "import numpy as np\n",
    "import nltk\n",
    "from nltk import bigrams\n",
    "import itertools\n",
    "import pandas as pd"
   ]
  },
  {
   "cell_type": "code",
   "execution_count": 4,
   "metadata": {},
   "outputs": [
    {
     "name": "stdout",
     "output_type": "stream",
     "text": [
      "            used  What  Pythonused  use   in  companies  Why   is  best  \\\n",
      "used         0.0   0.0         0.0  0.0  0.0        0.0  0.0  1.0   0.0   \n",
      "What         1.0   0.0         0.0  0.0  0.0        0.0  0.0  0.0   1.0   \n",
      "Pythonused   0.0   0.0         0.0  0.0  0.0        0.0  0.0  1.0   0.0   \n",
      "use          0.0   0.0         0.0  0.0  0.0        1.0  0.0  0.0   0.0   \n",
      "in           0.0   0.0         1.0  0.0  0.0        0.0  0.0  0.0   0.0   \n",
      "companies    0.0   1.0         0.0  0.0  0.0        0.0  0.0  0.0   0.0   \n",
      "Why          0.0   0.0         0.0  0.0  1.0        0.0  0.0  0.0   0.0   \n",
      "is           0.0   1.0         0.0  0.0  0.0        0.0  0.0  0.0   0.0   \n",
      "best         0.0   0.0         0.0  0.0  0.0        0.0  0.0  1.0   0.0   \n",
      "Python       0.0   0.0         0.0  1.0  0.0        0.0  1.0  0.0   0.0   \n",
      "Where        0.0   0.0         0.0  0.0  0.0        0.0  0.0  0.0   0.0   \n",
      "\n",
      "            Python  Where  \n",
      "used           0.0    0.0  \n",
      "What           0.0    0.0  \n",
      "Pythonused     0.0    0.0  \n",
      "use            0.0    0.0  \n",
      "in             0.0    0.0  \n",
      "companies      0.0    0.0  \n",
      "Why            0.0    0.0  \n",
      "is             2.0    0.0  \n",
      "best           0.0    0.0  \n",
      "Python         0.0    1.0  \n",
      "Where          0.0    0.0  \n"
     ]
    }
   ],
   "source": [
    "def generate_co_occurrence_matrix(corpus):\n",
    "    vocab = set(corpus)\n",
    "    vocab = list(vocab)\n",
    "    vocab_index = {word: i for i, word in enumerate(vocab)}\n",
    " \n",
    "    # Create bigrams from all words in corpus\n",
    "    bi_grams = list(bigrams(corpus))\n",
    " \n",
    "    # Frequency distribution of bigrams ((word1, word2), num_occurrences)\n",
    "    bigram_freq = nltk.FreqDist(bi_grams).most_common(len(bi_grams))\n",
    " \n",
    "    # Initialise co-occurrence matrix\n",
    "    # co_occurrence_matrix[current][previous]\n",
    "    co_occurrence_matrix = np.zeros((len(vocab), len(vocab)))\n",
    " \n",
    "    # Loop through the bigrams taking the current and previous word,\n",
    "    # and the number of occurrences of the bigram.\n",
    "    for bigram in bigram_freq:\n",
    "        current = bigram[0][1]\n",
    "        previous = bigram[0][0]\n",
    "        count = bigram[1]\n",
    "        pos_current = vocab_index[current]\n",
    "        pos_previous = vocab_index[previous]\n",
    "        co_occurrence_matrix[pos_current][pos_previous] = count\n",
    "    co_occurrence_matrix = np.matrix(co_occurrence_matrix)\n",
    " \n",
    "    # return the matrix and the index\n",
    "    return co_occurrence_matrix, vocab_index\n",
    " \n",
    " \n",
    "text_data = [['Where', 'Python', 'is', 'used'],\n",
    "             ['What', 'is', 'Python' 'used', 'in'],\n",
    "             ['Why', 'Python', 'is', 'best'],\n",
    "             ['What', 'companies', 'use', 'Python']]\n",
    " \n",
    "# Create one list using many lists\n",
    "data = list(itertools.chain.from_iterable(text_data))\n",
    "matrix, vocab_index = generate_co_occurrence_matrix(data)\n",
    " \n",
    " \n",
    "data_matrix = pd.DataFrame(matrix, index=vocab_index,\n",
    "                             columns=vocab_index)\n",
    "print(data_matrix)"
   ]
  },
  {
   "cell_type": "code",
   "execution_count": null,
   "metadata": {},
   "outputs": [],
   "source": []
  }
 ],
 "metadata": {
  "kernelspec": {
   "display_name": "Python 3",
   "language": "python",
   "name": "python3"
  },
  "language_info": {
   "codemirror_mode": {
    "name": "ipython",
    "version": 3
   },
   "file_extension": ".py",
   "mimetype": "text/x-python",
   "name": "python",
   "nbconvert_exporter": "python",
   "pygments_lexer": "ipython3",
   "version": "3.7.3"
  }
 },
 "nbformat": 4,
 "nbformat_minor": 2
}
